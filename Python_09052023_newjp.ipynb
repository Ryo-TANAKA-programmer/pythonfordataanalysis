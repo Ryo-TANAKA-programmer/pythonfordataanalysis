{
 "cells": [
  {
   "cell_type": "code",
   "execution_count": 23,
   "id": "414d739d",
   "metadata": {},
   "outputs": [
    {
     "name": "stdout",
     "output_type": "stream",
     "text": [
      "Hello World\n"
     ]
    },
    {
     "data": {
      "text/plain": [
       "((4, 5, 6), (7, 8))"
      ]
     },
     "execution_count": 23,
     "metadata": {},
     "output_type": "execute_result"
    }
   ],
   "source": [
    "import numpy as np\n",
    "import matplotlib.pyplot as plt\n",
    "import pandas as pd\n",
    "import seaborn as sns\n",
    "import statsmodels as sm\n",
    "from datetime import timedelta\n",
    "import datetime\n",
    "from datetime import date\n",
    "\n",
    "\n",
    "print(\"Hello World\")\n",
    "\n",
    "tup = 4,5,6\n",
    "tup\n",
    "\n",
    "nested_tup = (4,5,6),(7,8)\n",
    "nested_tup"
   ]
  },
  {
   "cell_type": "code",
   "execution_count": 18,
   "id": "450dc62c",
   "metadata": {},
   "outputs": [
    {
     "name": "stdout",
     "output_type": "stream",
     "text": [
      "2023-09-06 16:33:50.798238\n"
     ]
    }
   ],
   "source": [
    "x = datetime.datetime.now()\n",
    "print(x)"
   ]
  },
  {
   "cell_type": "code",
   "execution_count": 22,
   "id": "4095e2b8",
   "metadata": {},
   "outputs": [
    {
     "name": "stdout",
     "output_type": "stream",
     "text": [
      "2023\n",
      "Wednesday\n"
     ]
    }
   ],
   "source": [
    "import datetime\n",
    "x = datetime.datetime.now()\n",
    "print(x.year)\n",
    "print(x.strftime(\"%A\"))"
   ]
  },
  {
   "cell_type": "code",
   "execution_count": 28,
   "id": "dad739da",
   "metadata": {},
   "outputs": [
    {
     "name": "stdout",
     "output_type": "stream",
     "text": [
      "My birthday is  1996-01-12\n"
     ]
    }
   ],
   "source": [
    "my_date = date(1996,1,12)\n",
    "print(\"My birthday is \", my_date)\n"
   ]
  },
  {
   "cell_type": "code",
   "execution_count": 30,
   "id": "786315ba",
   "metadata": {},
   "outputs": [
    {
     "name": "stdout",
     "output_type": "stream",
     "text": [
      "Today's date is  2023-09-06\n"
     ]
    }
   ],
   "source": [
    "today = date.today()\n",
    "print(\"Today's date is \",today)"
   ]
  },
  {
   "cell_type": "code",
   "execution_count": 33,
   "id": "956dfefd",
   "metadata": {},
   "outputs": [
    {
     "name": "stdout",
     "output_type": "stream",
     "text": [
      "Current Year:  2023\n",
      "Current Month:  9\n",
      "Current day:  6\n"
     ]
    }
   ],
   "source": [
    "print(\"Current Year: \", today.year)\n",
    "print(\"Current Month: \",today.month)\n",
    "print(\"Current day: \", today.day)"
   ]
  },
  {
   "cell_type": "code",
   "execution_count": 41,
   "id": "dcac6b5c",
   "metadata": {},
   "outputs": [
    {
     "name": "stdout",
     "output_type": "stream",
     "text": [
      "Datetime from timestamp:  1973-07-10 04:04:28\n"
     ]
    }
   ],
   "source": [
    "from datetime import datetime\n",
    "\n",
    "date_time = datetime.fromtimestamp(111139468)\n",
    "print(\"Datetime from timestamp: \",date_time)"
   ]
  },
  {
   "cell_type": "code",
   "execution_count": null,
   "id": "923c61ac",
   "metadata": {},
   "outputs": [],
   "source": [
    "str = date.isoformat(today)\n",
    "print(\"String Representation\", str)\n",
    "print(type(str))\n",
    "\n",
    "https://www.geeksforgeeks.org/python-datetime-module/"
   ]
  },
  {
   "cell_type": "code",
   "execution_count": null,
   "id": "90ec7f9f",
   "metadata": {},
   "outputs": [],
   "source": []
  },
  {
   "cell_type": "code",
   "execution_count": null,
   "id": "64135319",
   "metadata": {},
   "outputs": [],
   "source": []
  }
 ],
 "metadata": {
  "kernelspec": {
   "display_name": "Python 3 (ipykernel)",
   "language": "python",
   "name": "python3"
  },
  "language_info": {
   "codemirror_mode": {
    "name": "ipython",
    "version": 3
   },
   "file_extension": ".py",
   "mimetype": "text/x-python",
   "name": "python",
   "nbconvert_exporter": "python",
   "pygments_lexer": "ipython3",
   "version": "3.9.13"
  }
 },
 "nbformat": 4,
 "nbformat_minor": 5
}
